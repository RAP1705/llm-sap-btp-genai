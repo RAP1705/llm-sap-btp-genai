{
 "cells": [
  {
   "cell_type": "code",
   "execution_count": 3,
   "metadata": {},
   "outputs": [
    {
     "name": "stdout",
     "output_type": "stream",
     "text": [
      "Requirement already satisfied: langchain in c:\\users\\pc\\desktop\\batch3\\gen-ai-3\\day08\\venv-day08\\lib\\site-packages (0.2.16)\n",
      "Requirement already satisfied: langchain-core in c:\\users\\pc\\desktop\\batch3\\gen-ai-3\\day08\\venv-day08\\lib\\site-packages (0.2.38)\n",
      "Requirement already satisfied: langchain-community in c:\\users\\pc\\desktop\\batch3\\gen-ai-3\\day08\\venv-day08\\lib\\site-packages (0.2.10)\n",
      "Requirement already satisfied: langchain-openai in c:\\users\\pc\\desktop\\batch3\\gen-ai-3\\day08\\venv-day08\\lib\\site-packages (0.1.23)\n",
      "Requirement already satisfied: langgraph in c:\\users\\pc\\desktop\\batch3\\gen-ai-3\\day08\\venv-day08\\lib\\site-packages (0.2.19)\n",
      "Requirement already satisfied: python-dotenv in c:\\users\\pc\\desktop\\batch3\\gen-ai-3\\day08\\venv-day08\\lib\\site-packages (1.0.1)\n",
      "Requirement already satisfied: PyYAML>=5.3 in c:\\users\\pc\\desktop\\batch3\\gen-ai-3\\day08\\venv-day08\\lib\\site-packages (from langchain) (6.0.2)\n",
      "Requirement already satisfied: SQLAlchemy<3,>=1.4 in c:\\users\\pc\\desktop\\batch3\\gen-ai-3\\day08\\venv-day08\\lib\\site-packages (from langchain) (2.0.34)\n",
      "Requirement already satisfied: aiohttp<4.0.0,>=3.8.3 in c:\\users\\pc\\desktop\\batch3\\gen-ai-3\\day08\\venv-day08\\lib\\site-packages (from langchain) (3.10.5)\n",
      "Requirement already satisfied: langchain-text-splitters<0.3.0,>=0.2.0 in c:\\users\\pc\\desktop\\batch3\\gen-ai-3\\day08\\venv-day08\\lib\\site-packages (from langchain) (0.2.4)\n",
      "Requirement already satisfied: langsmith<0.2.0,>=0.1.17 in c:\\users\\pc\\desktop\\batch3\\gen-ai-3\\day08\\venv-day08\\lib\\site-packages (from langchain) (0.1.116)\n",
      "Requirement already satisfied: numpy<2.0.0,>=1.26.0 in c:\\users\\pc\\desktop\\batch3\\gen-ai-3\\day08\\venv-day08\\lib\\site-packages (from langchain) (1.26.4)\n",
      "Requirement already satisfied: pydantic<3,>=1 in c:\\users\\pc\\desktop\\batch3\\gen-ai-3\\day08\\venv-day08\\lib\\site-packages (from langchain) (2.9.0)\n",
      "Requirement already satisfied: requests<3,>=2 in c:\\users\\pc\\desktop\\batch3\\gen-ai-3\\day08\\venv-day08\\lib\\site-packages (from langchain) (2.32.3)\n",
      "Requirement already satisfied: tenacity!=8.4.0,<9.0.0,>=8.1.0 in c:\\users\\pc\\desktop\\batch3\\gen-ai-3\\day08\\venv-day08\\lib\\site-packages (from langchain) (8.5.0)\n",
      "Requirement already satisfied: jsonpatch<2.0,>=1.33 in c:\\users\\pc\\desktop\\batch3\\gen-ai-3\\day08\\venv-day08\\lib\\site-packages (from langchain-core) (1.33)\n",
      "Requirement already satisfied: packaging<25,>=23.2 in c:\\users\\pc\\desktop\\batch3\\gen-ai-3\\day08\\venv-day08\\lib\\site-packages (from langchain-core) (24.1)\n",
      "Requirement already satisfied: typing-extensions>=4.7 in c:\\users\\pc\\desktop\\batch3\\gen-ai-3\\day08\\venv-day08\\lib\\site-packages (from langchain-core) (4.12.2)\n",
      "Requirement already satisfied: dataclasses-json<0.7,>=0.5.7 in c:\\users\\pc\\desktop\\batch3\\gen-ai-3\\day08\\venv-day08\\lib\\site-packages (from langchain-community) (0.6.7)\n",
      "Requirement already satisfied: openai<2.0.0,>=1.40.0 in c:\\users\\pc\\desktop\\batch3\\gen-ai-3\\day08\\venv-day08\\lib\\site-packages (from langchain-openai) (1.44.0)\n",
      "Requirement already satisfied: tiktoken<1,>=0.7 in c:\\users\\pc\\desktop\\batch3\\gen-ai-3\\day08\\venv-day08\\lib\\site-packages (from langchain-openai) (0.7.0)\n",
      "Requirement already satisfied: langgraph-checkpoint<2.0.0,>=1.0.2 in c:\\users\\pc\\desktop\\batch3\\gen-ai-3\\day08\\venv-day08\\lib\\site-packages (from langgraph) (1.0.9)\n",
      "Requirement already satisfied: aiohappyeyeballs>=2.3.0 in c:\\users\\pc\\desktop\\batch3\\gen-ai-3\\day08\\venv-day08\\lib\\site-packages (from aiohttp<4.0.0,>=3.8.3->langchain) (2.4.0)\n",
      "Requirement already satisfied: aiosignal>=1.1.2 in c:\\users\\pc\\desktop\\batch3\\gen-ai-3\\day08\\venv-day08\\lib\\site-packages (from aiohttp<4.0.0,>=3.8.3->langchain) (1.3.1)\n",
      "Requirement already satisfied: attrs>=17.3.0 in c:\\users\\pc\\desktop\\batch3\\gen-ai-3\\day08\\venv-day08\\lib\\site-packages (from aiohttp<4.0.0,>=3.8.3->langchain) (24.2.0)\n",
      "Requirement already satisfied: frozenlist>=1.1.1 in c:\\users\\pc\\desktop\\batch3\\gen-ai-3\\day08\\venv-day08\\lib\\site-packages (from aiohttp<4.0.0,>=3.8.3->langchain) (1.4.1)\n",
      "Requirement already satisfied: multidict<7.0,>=4.5 in c:\\users\\pc\\desktop\\batch3\\gen-ai-3\\day08\\venv-day08\\lib\\site-packages (from aiohttp<4.0.0,>=3.8.3->langchain) (6.0.5)\n",
      "Requirement already satisfied: yarl<2.0,>=1.0 in c:\\users\\pc\\desktop\\batch3\\gen-ai-3\\day08\\venv-day08\\lib\\site-packages (from aiohttp<4.0.0,>=3.8.3->langchain) (1.10.0)\n",
      "Requirement already satisfied: marshmallow<4.0.0,>=3.18.0 in c:\\users\\pc\\desktop\\batch3\\gen-ai-3\\day08\\venv-day08\\lib\\site-packages (from dataclasses-json<0.7,>=0.5.7->langchain-community) (3.22.0)\n",
      "Requirement already satisfied: typing-inspect<1,>=0.4.0 in c:\\users\\pc\\desktop\\batch3\\gen-ai-3\\day08\\venv-day08\\lib\\site-packages (from dataclasses-json<0.7,>=0.5.7->langchain-community) (0.9.0)\n",
      "Requirement already satisfied: jsonpointer>=1.9 in c:\\users\\pc\\desktop\\batch3\\gen-ai-3\\day08\\venv-day08\\lib\\site-packages (from jsonpatch<2.0,>=1.33->langchain-core) (3.0.0)\n",
      "Requirement already satisfied: httpx<1,>=0.23.0 in c:\\users\\pc\\desktop\\batch3\\gen-ai-3\\day08\\venv-day08\\lib\\site-packages (from langsmith<0.2.0,>=0.1.17->langchain) (0.27.2)\n",
      "Requirement already satisfied: orjson<4.0.0,>=3.9.14 in c:\\users\\pc\\desktop\\batch3\\gen-ai-3\\day08\\venv-day08\\lib\\site-packages (from langsmith<0.2.0,>=0.1.17->langchain) (3.10.7)\n",
      "Requirement already satisfied: anyio<5,>=3.5.0 in c:\\users\\pc\\desktop\\batch3\\gen-ai-3\\day08\\venv-day08\\lib\\site-packages (from openai<2.0.0,>=1.40.0->langchain-openai) (4.4.0)\n",
      "Requirement already satisfied: distro<2,>=1.7.0 in c:\\users\\pc\\desktop\\batch3\\gen-ai-3\\day08\\venv-day08\\lib\\site-packages (from openai<2.0.0,>=1.40.0->langchain-openai) (1.9.0)\n",
      "Requirement already satisfied: jiter<1,>=0.4.0 in c:\\users\\pc\\desktop\\batch3\\gen-ai-3\\day08\\venv-day08\\lib\\site-packages (from openai<2.0.0,>=1.40.0->langchain-openai) (0.5.0)\n",
      "Requirement already satisfied: sniffio in c:\\users\\pc\\desktop\\batch3\\gen-ai-3\\day08\\venv-day08\\lib\\site-packages (from openai<2.0.0,>=1.40.0->langchain-openai) (1.3.1)\n",
      "Requirement already satisfied: tqdm>4 in c:\\users\\pc\\desktop\\batch3\\gen-ai-3\\day08\\venv-day08\\lib\\site-packages (from openai<2.0.0,>=1.40.0->langchain-openai) (4.66.5)\n",
      "Requirement already satisfied: annotated-types>=0.4.0 in c:\\users\\pc\\desktop\\batch3\\gen-ai-3\\day08\\venv-day08\\lib\\site-packages (from pydantic<3,>=1->langchain) (0.7.0)\n",
      "Requirement already satisfied: pydantic-core==2.23.2 in c:\\users\\pc\\desktop\\batch3\\gen-ai-3\\day08\\venv-day08\\lib\\site-packages (from pydantic<3,>=1->langchain) (2.23.2)\n",
      "Requirement already satisfied: tzdata in c:\\users\\pc\\desktop\\batch3\\gen-ai-3\\day08\\venv-day08\\lib\\site-packages (from pydantic<3,>=1->langchain) (2024.1)\n",
      "Requirement already satisfied: charset-normalizer<4,>=2 in c:\\users\\pc\\desktop\\batch3\\gen-ai-3\\day08\\venv-day08\\lib\\site-packages (from requests<3,>=2->langchain) (3.3.2)\n",
      "Requirement already satisfied: idna<4,>=2.5 in c:\\users\\pc\\desktop\\batch3\\gen-ai-3\\day08\\venv-day08\\lib\\site-packages (from requests<3,>=2->langchain) (3.8)\n",
      "Requirement already satisfied: urllib3<3,>=1.21.1 in c:\\users\\pc\\desktop\\batch3\\gen-ai-3\\day08\\venv-day08\\lib\\site-packages (from requests<3,>=2->langchain) (2.2.2)\n",
      "Requirement already satisfied: certifi>=2017.4.17 in c:\\users\\pc\\desktop\\batch3\\gen-ai-3\\day08\\venv-day08\\lib\\site-packages (from requests<3,>=2->langchain) (2024.8.30)\n",
      "Requirement already satisfied: greenlet!=0.4.17 in c:\\users\\pc\\desktop\\batch3\\gen-ai-3\\day08\\venv-day08\\lib\\site-packages (from SQLAlchemy<3,>=1.4->langchain) (3.0.3)\n",
      "Requirement already satisfied: regex>=2022.1.18 in c:\\users\\pc\\desktop\\batch3\\gen-ai-3\\day08\\venv-day08\\lib\\site-packages (from tiktoken<1,>=0.7->langchain-openai) (2024.7.24)\n",
      "Requirement already satisfied: httpcore==1.* in c:\\users\\pc\\desktop\\batch3\\gen-ai-3\\day08\\venv-day08\\lib\\site-packages (from httpx<1,>=0.23.0->langsmith<0.2.0,>=0.1.17->langchain) (1.0.5)\n",
      "Requirement already satisfied: h11<0.15,>=0.13 in c:\\users\\pc\\desktop\\batch3\\gen-ai-3\\day08\\venv-day08\\lib\\site-packages (from httpcore==1.*->httpx<1,>=0.23.0->langsmith<0.2.0,>=0.1.17->langchain) (0.14.0)\n",
      "Requirement already satisfied: colorama in c:\\users\\pc\\desktop\\batch3\\gen-ai-3\\day08\\venv-day08\\lib\\site-packages (from tqdm>4->openai<2.0.0,>=1.40.0->langchain-openai) (0.4.6)\n",
      "Requirement already satisfied: mypy-extensions>=0.3.0 in c:\\users\\pc\\desktop\\batch3\\gen-ai-3\\day08\\venv-day08\\lib\\site-packages (from typing-inspect<1,>=0.4.0->dataclasses-json<0.7,>=0.5.7->langchain-community) (1.0.0)\n",
      "Note: you may need to restart the kernel to use updated packages.\n"
     ]
    },
    {
     "name": "stderr",
     "output_type": "stream",
     "text": [
      "WARNING: Ignoring invalid distribution ~ (c:\\Users\\pc\\Desktop\\BATCH3\\gen-ai-3\\DAY08\\venv-day08\\Lib\\site-packages)\n",
      "WARNING: Ignoring invalid distribution ~angchain-community (c:\\Users\\pc\\Desktop\\BATCH3\\gen-ai-3\\DAY08\\venv-day08\\Lib\\site-packages)\n",
      "WARNING: Ignoring invalid distribution ~ (c:\\Users\\pc\\Desktop\\BATCH3\\gen-ai-3\\DAY08\\venv-day08\\Lib\\site-packages)\n",
      "WARNING: Ignoring invalid distribution ~angchain-community (c:\\Users\\pc\\Desktop\\BATCH3\\gen-ai-3\\DAY08\\venv-day08\\Lib\\site-packages)\n",
      "WARNING: Ignoring invalid distribution ~ (c:\\Users\\pc\\Desktop\\BATCH3\\gen-ai-3\\DAY08\\venv-day08\\Lib\\site-packages)\n",
      "WARNING: Ignoring invalid distribution ~angchain-community (c:\\Users\\pc\\Desktop\\BATCH3\\gen-ai-3\\DAY08\\venv-day08\\Lib\\site-packages)\n"
     ]
    }
   ],
   "source": [
    "pip install langchain langchain-core langchain-community langchain-openai langgraph python-dotenv"
   ]
  },
  {
   "cell_type": "code",
   "execution_count": 6,
   "metadata": {},
   "outputs": [],
   "source": [
    "import os\n",
    "from dotenv import load_dotenv\n",
    "load_dotenv()\n",
    "\n",
    "\n",
    "# os.environ[\"OPENAI_API_KEY\"]=os.getenv(\"OPENAI_API_KEY\")\n",
    "## Langmith tracking\n",
    "os.environ[\"LANGCHAIN_TRACING_V2\"]=\"true\"\n",
    "os.environ[\"LANGCHAIN_API_KEY\"]=os.getenv(\"LANGCHAIN_API_KEY\")\n",
    "\n",
    "os.environ[\"AICORE_AUTH_URL\"] = os.getenv(\"AICORE_AUTH_URL\")\n",
    "os.environ[\"AICORE_CLIENT_ID\"] = os.getenv(\"AICORE_CLIENT_ID\")\n",
    "os.environ[\"AICORE_CLIENT_SECRET\"] = os.getenv(\"AICORE_CLIENT_SECRET\")\n",
    "os.environ[\"AICORE_RESOURCE_GROUP\"] = os.getenv(\"AICORE_RESOURCE_GROUP\")\n",
    "os.environ[\"AICORE_BASE_URL\"] = os.getenv(\"AICORE_BASE_URL\")\n",
    "\n",
    "user=os.getenv(\"user\")\n",
    "password=os.getenv(\"password\")\n",
    "host=os.getenv(\"host\")\n",
    "database=os.getenv(\"database\")"
   ]
  },
  {
   "cell_type": "code",
   "execution_count": 8,
   "metadata": {},
   "outputs": [
    {
     "name": "stdout",
     "output_type": "stream",
     "text": [
      "Collecting sqlalchemy-hana\n",
      "  Using cached sqlalchemy_hana-2.6.0-py3-none-any.whl.metadata (18 kB)\n",
      "Requirement already satisfied: sqlalchemy<3,>=1.4.0 in c:\\users\\pc\\desktop\\batch3\\gen-ai-3\\day08\\venv-day08\\lib\\site-packages (from sqlalchemy-hana) (2.0.34)\n",
      "Collecting hdbcli~=2.10 (from sqlalchemy-hana)\n",
      "  Using cached hdbcli-2.21.31-cp36-abi3-win_amd64.whl.metadata (6.3 kB)\n",
      "Requirement already satisfied: typing-extensions>=4.6.0 in c:\\users\\pc\\desktop\\batch3\\gen-ai-3\\day08\\venv-day08\\lib\\site-packages (from sqlalchemy<3,>=1.4.0->sqlalchemy-hana) (4.12.2)\n",
      "Requirement already satisfied: greenlet!=0.4.17 in c:\\users\\pc\\desktop\\batch3\\gen-ai-3\\day08\\venv-day08\\lib\\site-packages (from sqlalchemy<3,>=1.4.0->sqlalchemy-hana) (3.0.3)\n",
      "Using cached sqlalchemy_hana-2.6.0-py3-none-any.whl (27 kB)\n",
      "Using cached hdbcli-2.21.31-cp36-abi3-win_amd64.whl (3.6 MB)\n",
      "Installing collected packages: hdbcli, sqlalchemy-hana\n",
      "Successfully installed hdbcli-2.21.31 sqlalchemy-hana-2.6.0\n",
      "Note: you may need to restart the kernel to use updated packages.\n"
     ]
    },
    {
     "name": "stderr",
     "output_type": "stream",
     "text": [
      "WARNING: Ignoring invalid distribution ~ (c:\\Users\\pc\\Desktop\\BATCH3\\gen-ai-3\\DAY08\\venv-day08\\Lib\\site-packages)\n",
      "WARNING: Ignoring invalid distribution ~angchain-community (c:\\Users\\pc\\Desktop\\BATCH3\\gen-ai-3\\DAY08\\venv-day08\\Lib\\site-packages)\n",
      "WARNING: Ignoring invalid distribution ~ (c:\\Users\\pc\\Desktop\\BATCH3\\gen-ai-3\\DAY08\\venv-day08\\Lib\\site-packages)\n",
      "WARNING: Ignoring invalid distribution ~angchain-community (c:\\Users\\pc\\Desktop\\BATCH3\\gen-ai-3\\DAY08\\venv-day08\\Lib\\site-packages)\n",
      "WARNING: Ignoring invalid distribution ~ (c:\\Users\\pc\\Desktop\\BATCH3\\gen-ai-3\\DAY08\\venv-day08\\Lib\\site-packages)\n",
      "WARNING: Ignoring invalid distribution ~angchain-community (c:\\Users\\pc\\Desktop\\BATCH3\\gen-ai-3\\DAY08\\venv-day08\\Lib\\site-packages)\n"
     ]
    }
   ],
   "source": [
    "pip install sqlalchemy-hana"
   ]
  },
  {
   "cell_type": "code",
   "execution_count": 9,
   "metadata": {},
   "outputs": [],
   "source": [
    "from langchain_community.utilities.sql_database import SQLDatabase\n",
    "\n",
    "connection_uri = f'hana://{user}:{password}@{host}/{database}'\n",
    "\n",
    "db = SQLDatabase.from_uri(connection_uri)"
   ]
  },
  {
   "cell_type": "code",
   "execution_count": 10,
   "metadata": {},
   "outputs": [
    {
     "name": "stderr",
     "output_type": "stream",
     "text": [
      "C:\\Users\\pc\\AppData\\Local\\Temp\\ipykernel_19576\\2805447668.py:7: UserWarning: WARNING! model is not default parameter.\n",
      "                model was transferred to model_kwargs.\n",
      "                Please confirm that model is what you intended.\n",
      "  llm = ChatOpenAI(model=\"gpt-3.5-turbo\", deployment_id=LLM_DEPLOYMENT_ID)\n"
     ]
    }
   ],
   "source": [
    "from langchain_community.agent_toolkits import create_sql_agent\n",
    "# from langchain_openai import ChatOpenAI\n",
    "from gen_ai_hub.proxy.langchain.openai import ChatOpenAI\n",
    "\n",
    "LLM_DEPLOYMENT_ID = os.getenv(\"LLM_DEPLOYMENT_ID\")\n",
    "\n",
    "llm = ChatOpenAI(model=\"gpt-3.5-turbo\", deployment_id=LLM_DEPLOYMENT_ID)\n",
    "agent_executor = create_sql_agent(llm, db=db, agent_type=\"openai-tools\", verbose=True)"
   ]
  },
  {
   "cell_type": "code",
   "execution_count": 11,
   "metadata": {},
   "outputs": [
    {
     "name": "stdout",
     "output_type": "stream",
     "text": [
      "\n",
      "\n",
      "\u001b[1m> Entering new SQL Agent Executor chain...\u001b[0m\n",
      "\u001b[32;1m\u001b[1;3m\n",
      "Invoking: `sql_db_list_tables` with `{}`\n",
      "\n",
      "\n",
      "\u001b[0m\u001b[38;5;200m\u001b[1;3mInvoice, Orders, Sales\u001b[0m\u001b[32;1m\u001b[1;3m\n",
      "Invoking: `sql_db_schema` with `{'table_names': 'Orders, Sales'}`\n",
      "\n",
      "\n",
      "\u001b[0m\u001b[33;1m\u001b[1;3m\n",
      "CREATE TABLE \"Orders\" (\n",
      "\t\"OrdersId\" INTEGER NOT NULL, \n",
      "\t\"CustomerId\" INTEGER NOT NULL, \n",
      "\t\"OrdersDate\" TIMESTAMP DEFAULT CURRENT_TIMESTAMP, \n",
      "\t\"BillingAddress\" NVARCHAR(70), \n",
      "\t\"BillingCity\" NVARCHAR(40), \n",
      "\t\"BillingState\" NVARCHAR(40), \n",
      "\t\"BillingCountry\" NVARCHAR(40), \n",
      "\t\"BillingPostalCode\" NVARCHAR(10), \n",
      "\t\"Total\" DECIMAL(10, 2) NOT NULL, \n",
      "\tCONSTRAINT \"_SYS_TREE_CS_#163943_#0_#P0\" PRIMARY KEY (\"OrdersId\")\n",
      ")\n",
      "\n",
      "/*\n",
      "3 rows from Orders table:\n",
      "OrdersId\tCustomerId\tOrdersDate\tBillingAddress\tBillingCity\tBillingState\tBillingCountry\tBillingPostalCode\tTotal\n",
      "1\t101\t2024-01-15 10:00:00\t123 Elm St\tSpringfield\tIL\tUSA\t62701\t150.75\n",
      "2\t102\t2024-02-20 11:30:00\t456 Maple Ave\tNew York\tNY\tUSA\t10001\t250.5\n",
      "3\t103\t2024-03-05 09:15:00\t789 Oak Dr\tSão Paulo\tSP\tBrazil\t01000-000\t75\n",
      "*/\n",
      "\n",
      "\n",
      "CREATE TABLE \"Sales\" (\n",
      "\t\"SalesId\" INTEGER NOT NULL, \n",
      "\t\"CustomerId\" INTEGER NOT NULL, \n",
      "\t\"SalesDate\" TIMESTAMP DEFAULT CURRENT_TIMESTAMP, \n",
      "\t\"BillingAddress\" NVARCHAR(70), \n",
      "\t\"BillingCity\" NVARCHAR(40), \n",
      "\t\"BillingState\" NVARCHAR(40), \n",
      "\t\"BillingCountry\" NVARCHAR(40), \n",
      "\t\"BillingPostalCode\" NVARCHAR(10), \n",
      "\t\"Total\" DECIMAL(10, 2) NOT NULL, \n",
      "\tCONSTRAINT \"_SYS_TREE_CS_#163929_#0_#P0\" PRIMARY KEY (\"SalesId\")\n",
      ")\n",
      "\n",
      "/*\n",
      "3 rows from Sales table:\n",
      "SalesId\tCustomerId\tSalesDate\tBillingAddress\tBillingCity\tBillingState\tBillingCountry\tBillingPostalCode\tTotal\n",
      "1\t101\t2024-01-15 10:00:00\t123 Elm St\tSpringfield\tIL\tUSA\t62701\t150.75\n",
      "2\t102\t2024-02-20 11:30:00\t456 Maple Ave\tNew York\tNY\tUSA\t10001\t250.5\n",
      "3\t103\t2024-03-05 09:15:00\t789 Oak Dr\tSão Paulo\tSP\tBrazil\t01000-000\t75\n",
      "*/\u001b[0m\u001b[32;1m\u001b[1;3m\n",
      "Invoking: `sql_db_query` with `{'query': 'SELECT BillingCountry, SUM(Total) AS TotalSales\\nFROM (SELECT * FROM Orders UNION ALL SELECT * FROM Sales) AS AllSales\\nGROUP BY BillingCountry\\nORDER BY TotalSales DESC'}`\n",
      "\n",
      "\n",
      "\u001b[0m\u001b[36;1m\u001b[1;3mError: (hdbcli.dbapi.ProgrammingError) (259, 'invalid table name:  Could not find table/view ORDERS in schema DBADMIN: line 2 col 21 (at pos 68)')\n",
      "[SQL: SELECT BillingCountry, SUM(Total) AS TotalSales\n",
      "FROM (SELECT * FROM Orders UNION ALL SELECT * FROM Sales) AS AllSales\n",
      "GROUP BY BillingCountry\n",
      "ORDER BY TotalSales DESC]\n",
      "(Background on this error at: https://sqlalche.me/e/20/f405)\u001b[0m\u001b[32;1m\u001b[1;3m\n",
      "Invoking: `sql_db_query_checker` with `{'query': 'SELECT BillingCountry, SUM(Total) AS TotalSales\\nFROM (SELECT * FROM \"Orders\" UNION ALL SELECT * FROM \"Sales\") AS AllSales\\nGROUP BY BillingCountry\\nORDER BY TotalSales DESC'}`\n",
      "\n",
      "\n",
      "\u001b[0m\u001b[36;1m\u001b[1;3mSELECT \"BillingCountry\", SUM(\"Total\") AS \"TotalSales\"\n",
      "FROM (SELECT * FROM \"Orders\" UNION ALL SELECT * FROM \"Sales\") AS \"AllSales\"\n",
      "GROUP BY \"BillingCountry\"\n",
      "ORDER BY \"TotalSales\" DESC;\u001b[0m\u001b[32;1m\u001b[1;3m\n",
      "Invoking: `sql_db_query` with `{'query': 'SELECT \"BillingCountry\", SUM(\"Total\") AS \"TotalSales\"\\nFROM (SELECT * FROM \"Orders\" UNION ALL SELECT * FROM \"Sales\") AS \"AllSales\"\\nGROUP BY \"BillingCountry\"\\nORDER BY \"TotalSales\" DESC'}`\n",
      "\n",
      "\n",
      "\u001b[0m\u001b[36;1m\u001b[1;3m[('USA', Decimal('802.5')), ('Australia', Decimal('801.96')), ('India', Decimal('680.9')), ('Brazil', Decimal('510.4')), ('Japan', Decimal('492.7'))]\u001b[0m\u001b[32;1m\u001b[1;3mThe total sales per country are as follows:\n",
      "- USA: $802.50\n",
      "- Australia: $801.96\n",
      "- India: $680.90\n",
      "- Brazil: $510.40\n",
      "- Japan: $492.70\n",
      "\n",
      "Customers from the **USA** spent the most.\u001b[0m\n",
      "\n",
      "\u001b[1m> Finished chain.\u001b[0m\n"
     ]
    },
    {
     "data": {
      "text/plain": [
       "{'input': \"List the total sales per country. Which country's customers spent the most?\",\n",
       " 'output': 'The total sales per country are as follows:\\n- USA: $802.50\\n- Australia: $801.96\\n- India: $680.90\\n- Brazil: $510.40\\n- Japan: $492.70\\n\\nCustomers from the **USA** spent the most.'}"
      ]
     },
     "execution_count": 11,
     "metadata": {},
     "output_type": "execute_result"
    }
   ],
   "source": [
    "agent_executor.invoke(\n",
    "    \"List the total sales per country. Which country's customers spent the most?\"\n",
    ")"
   ]
  }
 ],
 "metadata": {
  "kernelspec": {
   "display_name": "venv-day08",
   "language": "python",
   "name": "python3"
  },
  "language_info": {
   "codemirror_mode": {
    "name": "ipython",
    "version": 3
   },
   "file_extension": ".py",
   "mimetype": "text/x-python",
   "name": "python",
   "nbconvert_exporter": "python",
   "pygments_lexer": "ipython3",
   "version": "3.12.5"
  }
 },
 "nbformat": 4,
 "nbformat_minor": 2
}
